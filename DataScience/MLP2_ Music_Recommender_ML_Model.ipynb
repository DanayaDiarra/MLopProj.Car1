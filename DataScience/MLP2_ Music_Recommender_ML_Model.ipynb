{
  "nbformat": 4,
  "nbformat_minor": 0,
  "metadata": {
    "colab": {
      "provenance": [],
      "authorship_tag": "ABX9TyOgz50/bvp7310c6XyaPHYa",
      "include_colab_link": true
    },
    "kernelspec": {
      "name": "python3",
      "display_name": "Python 3"
    },
    "language_info": {
      "name": "python"
    }
  },
  "cells": [
    {
      "cell_type": "markdown",
      "metadata": {
        "id": "view-in-github",
        "colab_type": "text"
      },
      "source": [
        "<a href=\"https://colab.research.google.com/github/DanayaDiarra/DanayaGsom/blob/master/Music_Recommender_ML_Model.ipynb\" target=\"_parent\"><img src=\"https://colab.research.google.com/assets/colab-badge.svg\" alt=\"Open In Colab\"/></a>"
      ]
    },
    {
      "cell_type": "markdown",
      "source": [
        "**Project:**\n",
        "\n",
        "Building a ML model that recommend Music albums on the platform based on the Users' age range"
      ],
      "metadata": {
        "id": "wWaHKktohjQI"
      }
    },
    {
      "cell_type": "code",
      "execution_count": null,
      "metadata": {
        "id": "zlxkVIieN-HK"
      },
      "outputs": [],
      "source": [
        "import pandas as pd\n",
        "import numpy as np\n",
        "from sklearn.model_selection import train_test_split # Data splitting\n",
        "from sklearn.tree import DecisionTreeClassifier # ML algorithm\n",
        "from sklearn.metrics import accuracy_score  # Model evaluation\n",
        "import joblib # Model exportation and importation\n",
        "from sklearn import tree # Export the model in graph format\n",
        "from graphviz import Source\n",
        "\n",
        "\n"
      ]
    },
    {
      "cell_type": "markdown",
      "source": [
        "# 1) Importing the Dataset\n"
      ],
      "metadata": {
        "id": "1wz45EWwRoR5"
      }
    },
    {
      "cell_type": "code",
      "source": [
        "# music_data = pd.read_csv(\"/content/music.csv\")"
      ],
      "metadata": {
        "id": "2cDFw-RyQchT"
      },
      "execution_count": null,
      "outputs": []
    },
    {
      "cell_type": "code",
      "source": [
        "# music_data.head()"
      ],
      "metadata": {
        "id": "PHiD5D92QoBJ"
      },
      "execution_count": null,
      "outputs": []
    },
    {
      "cell_type": "markdown",
      "source": [
        "# 2) Splitting the Dataset to build the model"
      ],
      "metadata": {
        "id": "oVfRwIgTRnCL"
      }
    },
    {
      "cell_type": "code",
      "source": [
        "# x = music_data.drop(columns=[\"genre\"])\n",
        "# x"
      ],
      "metadata": {
        "id": "cUR0X6XrQq1J"
      },
      "execution_count": null,
      "outputs": []
    },
    {
      "cell_type": "code",
      "source": [
        "# y = music_data[\"genre\"]\n",
        "# y"
      ],
      "metadata": {
        "id": "D9FHkM_6SRy5"
      },
      "execution_count": null,
      "outputs": []
    },
    {
      "cell_type": "code",
      "source": [
        "#x_train, x_test, y_train, y_test = train_test_split(x, y, test_size= 0.2)"
      ],
      "metadata": {
        "id": "SQzV34xyVfRS"
      },
      "execution_count": null,
      "outputs": []
    },
    {
      "cell_type": "markdown",
      "source": [
        "# Decision Tree Algorithm"
      ],
      "metadata": {
        "id": "sijOx7V7TNRx"
      }
    },
    {
      "cell_type": "code",
      "source": [
        "# model = DecisionTreeClassifier()\n",
        "# model.fit(x, y)\n"
      ],
      "metadata": {
        "id": "xie5BX4lTmom"
      },
      "execution_count": null,
      "outputs": []
    },
    {
      "cell_type": "markdown",
      "source": [
        "# Prediction and Evaluation"
      ],
      "metadata": {
        "id": "Ofb7XUlbUKy_"
      }
    },
    {
      "cell_type": "code",
      "source": [
        "#predictions = model.predict([[21, 1], [30, 0]])\n",
        "#score = accuracy_score(y_test, predict)"
      ],
      "metadata": {
        "id": "HtPO2bbPToPp"
      },
      "execution_count": null,
      "outputs": []
    },
    {
      "cell_type": "code",
      "source": [
        "# predictions\n"
      ],
      "metadata": {
        "id": "1Hw-wUdsUE7p"
      },
      "execution_count": null,
      "outputs": []
    },
    {
      "cell_type": "markdown",
      "source": [
        "# Export the model for future Use"
      ],
      "metadata": {
        "id": "5jilFcAuaQup"
      }
    },
    {
      "cell_type": "code",
      "source": [
        "# joblib.dump(model, \"music_recommender.joblib\")"
      ],
      "metadata": {
        "id": "yIEyLsSObXKJ"
      },
      "execution_count": null,
      "outputs": []
    },
    {
      "cell_type": "markdown",
      "source": [
        "# Re-Importing the model for Prediction"
      ],
      "metadata": {
        "id": "Fu_PX7YVfmwg"
      }
    },
    {
      "cell_type": "code",
      "source": [
        "model = joblib.load(\"music_recommender.joblib\")\n",
        "predictions = model.predict([[21, 1], [30, 0]])\n",
        "predictions = pd.DataFrame(predictions, index=[1, 0])\n"
      ],
      "metadata": {
        "colab": {
          "base_uri": "https://localhost:8080/"
        },
        "id": "_FOqckV1dxMZ",
        "outputId": "974b203a-18fd-4f89-fc2d-282e2ce442c7"
      },
      "execution_count": null,
      "outputs": [
        {
          "output_type": "stream",
          "name": "stderr",
          "text": [
            "/usr/local/lib/python3.11/dist-packages/sklearn/utils/validation.py:2739: UserWarning: X does not have valid feature names, but DecisionTreeClassifier was fitted with feature names\n",
            "  warnings.warn(\n"
          ]
        }
      ]
    },
    {
      "cell_type": "code",
      "source": [
        "predictions"
      ],
      "metadata": {
        "colab": {
          "base_uri": "https://localhost:8080/",
          "height": 112
        },
        "id": "tLIhV6UkeQGQ",
        "outputId": "ab2f3581-260a-4c3c-d375-5046ffbc2a21"
      },
      "execution_count": null,
      "outputs": [
        {
          "output_type": "execute_result",
          "data": {
            "text/plain": [
              "          0\n",
              "1    HipHop\n",
              "0  Acoustic"
            ],
            "text/html": [
              "\n",
              "  <div id=\"df-053523ed-6256-445a-aee7-a8776eb8235e\" class=\"colab-df-container\">\n",
              "    <div>\n",
              "<style scoped>\n",
              "    .dataframe tbody tr th:only-of-type {\n",
              "        vertical-align: middle;\n",
              "    }\n",
              "\n",
              "    .dataframe tbody tr th {\n",
              "        vertical-align: top;\n",
              "    }\n",
              "\n",
              "    .dataframe thead th {\n",
              "        text-align: right;\n",
              "    }\n",
              "</style>\n",
              "<table border=\"1\" class=\"dataframe\">\n",
              "  <thead>\n",
              "    <tr style=\"text-align: right;\">\n",
              "      <th></th>\n",
              "      <th>0</th>\n",
              "    </tr>\n",
              "  </thead>\n",
              "  <tbody>\n",
              "    <tr>\n",
              "      <th>1</th>\n",
              "      <td>HipHop</td>\n",
              "    </tr>\n",
              "    <tr>\n",
              "      <th>0</th>\n",
              "      <td>Acoustic</td>\n",
              "    </tr>\n",
              "  </tbody>\n",
              "</table>\n",
              "</div>\n",
              "    <div class=\"colab-df-buttons\">\n",
              "\n",
              "  <div class=\"colab-df-container\">\n",
              "    <button class=\"colab-df-convert\" onclick=\"convertToInteractive('df-053523ed-6256-445a-aee7-a8776eb8235e')\"\n",
              "            title=\"Convert this dataframe to an interactive table.\"\n",
              "            style=\"display:none;\">\n",
              "\n",
              "  <svg xmlns=\"http://www.w3.org/2000/svg\" height=\"24px\" viewBox=\"0 -960 960 960\">\n",
              "    <path d=\"M120-120v-720h720v720H120Zm60-500h600v-160H180v160Zm220 220h160v-160H400v160Zm0 220h160v-160H400v160ZM180-400h160v-160H180v160Zm440 0h160v-160H620v160ZM180-180h160v-160H180v160Zm440 0h160v-160H620v160Z\"/>\n",
              "  </svg>\n",
              "    </button>\n",
              "\n",
              "  <style>\n",
              "    .colab-df-container {\n",
              "      display:flex;\n",
              "      gap: 12px;\n",
              "    }\n",
              "\n",
              "    .colab-df-convert {\n",
              "      background-color: #E8F0FE;\n",
              "      border: none;\n",
              "      border-radius: 50%;\n",
              "      cursor: pointer;\n",
              "      display: none;\n",
              "      fill: #1967D2;\n",
              "      height: 32px;\n",
              "      padding: 0 0 0 0;\n",
              "      width: 32px;\n",
              "    }\n",
              "\n",
              "    .colab-df-convert:hover {\n",
              "      background-color: #E2EBFA;\n",
              "      box-shadow: 0px 1px 2px rgba(60, 64, 67, 0.3), 0px 1px 3px 1px rgba(60, 64, 67, 0.15);\n",
              "      fill: #174EA6;\n",
              "    }\n",
              "\n",
              "    .colab-df-buttons div {\n",
              "      margin-bottom: 4px;\n",
              "    }\n",
              "\n",
              "    [theme=dark] .colab-df-convert {\n",
              "      background-color: #3B4455;\n",
              "      fill: #D2E3FC;\n",
              "    }\n",
              "\n",
              "    [theme=dark] .colab-df-convert:hover {\n",
              "      background-color: #434B5C;\n",
              "      box-shadow: 0px 1px 3px 1px rgba(0, 0, 0, 0.15);\n",
              "      filter: drop-shadow(0px 1px 2px rgba(0, 0, 0, 0.3));\n",
              "      fill: #FFFFFF;\n",
              "    }\n",
              "  </style>\n",
              "\n",
              "    <script>\n",
              "      const buttonEl =\n",
              "        document.querySelector('#df-053523ed-6256-445a-aee7-a8776eb8235e button.colab-df-convert');\n",
              "      buttonEl.style.display =\n",
              "        google.colab.kernel.accessAllowed ? 'block' : 'none';\n",
              "\n",
              "      async function convertToInteractive(key) {\n",
              "        const element = document.querySelector('#df-053523ed-6256-445a-aee7-a8776eb8235e');\n",
              "        const dataTable =\n",
              "          await google.colab.kernel.invokeFunction('convertToInteractive',\n",
              "                                                    [key], {});\n",
              "        if (!dataTable) return;\n",
              "\n",
              "        const docLinkHtml = 'Like what you see? Visit the ' +\n",
              "          '<a target=\"_blank\" href=https://colab.research.google.com/notebooks/data_table.ipynb>data table notebook</a>'\n",
              "          + ' to learn more about interactive tables.';\n",
              "        element.innerHTML = '';\n",
              "        dataTable['output_type'] = 'display_data';\n",
              "        await google.colab.output.renderOutput(dataTable, element);\n",
              "        const docLink = document.createElement('div');\n",
              "        docLink.innerHTML = docLinkHtml;\n",
              "        element.appendChild(docLink);\n",
              "      }\n",
              "    </script>\n",
              "  </div>\n",
              "\n",
              "\n",
              "<div id=\"df-ef23eba4-3da8-4b90-9b54-66f77129c7d2\">\n",
              "  <button class=\"colab-df-quickchart\" onclick=\"quickchart('df-ef23eba4-3da8-4b90-9b54-66f77129c7d2')\"\n",
              "            title=\"Suggest charts\"\n",
              "            style=\"display:none;\">\n",
              "\n",
              "<svg xmlns=\"http://www.w3.org/2000/svg\" height=\"24px\"viewBox=\"0 0 24 24\"\n",
              "     width=\"24px\">\n",
              "    <g>\n",
              "        <path d=\"M19 3H5c-1.1 0-2 .9-2 2v14c0 1.1.9 2 2 2h14c1.1 0 2-.9 2-2V5c0-1.1-.9-2-2-2zM9 17H7v-7h2v7zm4 0h-2V7h2v10zm4 0h-2v-4h2v4z\"/>\n",
              "    </g>\n",
              "</svg>\n",
              "  </button>\n",
              "\n",
              "<style>\n",
              "  .colab-df-quickchart {\n",
              "      --bg-color: #E8F0FE;\n",
              "      --fill-color: #1967D2;\n",
              "      --hover-bg-color: #E2EBFA;\n",
              "      --hover-fill-color: #174EA6;\n",
              "      --disabled-fill-color: #AAA;\n",
              "      --disabled-bg-color: #DDD;\n",
              "  }\n",
              "\n",
              "  [theme=dark] .colab-df-quickchart {\n",
              "      --bg-color: #3B4455;\n",
              "      --fill-color: #D2E3FC;\n",
              "      --hover-bg-color: #434B5C;\n",
              "      --hover-fill-color: #FFFFFF;\n",
              "      --disabled-bg-color: #3B4455;\n",
              "      --disabled-fill-color: #666;\n",
              "  }\n",
              "\n",
              "  .colab-df-quickchart {\n",
              "    background-color: var(--bg-color);\n",
              "    border: none;\n",
              "    border-radius: 50%;\n",
              "    cursor: pointer;\n",
              "    display: none;\n",
              "    fill: var(--fill-color);\n",
              "    height: 32px;\n",
              "    padding: 0;\n",
              "    width: 32px;\n",
              "  }\n",
              "\n",
              "  .colab-df-quickchart:hover {\n",
              "    background-color: var(--hover-bg-color);\n",
              "    box-shadow: 0 1px 2px rgba(60, 64, 67, 0.3), 0 1px 3px 1px rgba(60, 64, 67, 0.15);\n",
              "    fill: var(--button-hover-fill-color);\n",
              "  }\n",
              "\n",
              "  .colab-df-quickchart-complete:disabled,\n",
              "  .colab-df-quickchart-complete:disabled:hover {\n",
              "    background-color: var(--disabled-bg-color);\n",
              "    fill: var(--disabled-fill-color);\n",
              "    box-shadow: none;\n",
              "  }\n",
              "\n",
              "  .colab-df-spinner {\n",
              "    border: 2px solid var(--fill-color);\n",
              "    border-color: transparent;\n",
              "    border-bottom-color: var(--fill-color);\n",
              "    animation:\n",
              "      spin 1s steps(1) infinite;\n",
              "  }\n",
              "\n",
              "  @keyframes spin {\n",
              "    0% {\n",
              "      border-color: transparent;\n",
              "      border-bottom-color: var(--fill-color);\n",
              "      border-left-color: var(--fill-color);\n",
              "    }\n",
              "    20% {\n",
              "      border-color: transparent;\n",
              "      border-left-color: var(--fill-color);\n",
              "      border-top-color: var(--fill-color);\n",
              "    }\n",
              "    30% {\n",
              "      border-color: transparent;\n",
              "      border-left-color: var(--fill-color);\n",
              "      border-top-color: var(--fill-color);\n",
              "      border-right-color: var(--fill-color);\n",
              "    }\n",
              "    40% {\n",
              "      border-color: transparent;\n",
              "      border-right-color: var(--fill-color);\n",
              "      border-top-color: var(--fill-color);\n",
              "    }\n",
              "    60% {\n",
              "      border-color: transparent;\n",
              "      border-right-color: var(--fill-color);\n",
              "    }\n",
              "    80% {\n",
              "      border-color: transparent;\n",
              "      border-right-color: var(--fill-color);\n",
              "      border-bottom-color: var(--fill-color);\n",
              "    }\n",
              "    90% {\n",
              "      border-color: transparent;\n",
              "      border-bottom-color: var(--fill-color);\n",
              "    }\n",
              "  }\n",
              "</style>\n",
              "\n",
              "  <script>\n",
              "    async function quickchart(key) {\n",
              "      const quickchartButtonEl =\n",
              "        document.querySelector('#' + key + ' button');\n",
              "      quickchartButtonEl.disabled = true;  // To prevent multiple clicks.\n",
              "      quickchartButtonEl.classList.add('colab-df-spinner');\n",
              "      try {\n",
              "        const charts = await google.colab.kernel.invokeFunction(\n",
              "            'suggestCharts', [key], {});\n",
              "      } catch (error) {\n",
              "        console.error('Error during call to suggestCharts:', error);\n",
              "      }\n",
              "      quickchartButtonEl.classList.remove('colab-df-spinner');\n",
              "      quickchartButtonEl.classList.add('colab-df-quickchart-complete');\n",
              "    }\n",
              "    (() => {\n",
              "      let quickchartButtonEl =\n",
              "        document.querySelector('#df-ef23eba4-3da8-4b90-9b54-66f77129c7d2 button');\n",
              "      quickchartButtonEl.style.display =\n",
              "        google.colab.kernel.accessAllowed ? 'block' : 'none';\n",
              "    })();\n",
              "  </script>\n",
              "</div>\n",
              "    </div>\n",
              "  </div>\n"
            ],
            "application/vnd.google.colaboratory.intrinsic+json": {
              "type": "dataframe",
              "variable_name": "predictions",
              "summary": "{\n  \"name\": \"predictions\",\n  \"rows\": 2,\n  \"fields\": [\n    {\n      \"column\": 0,\n      \"properties\": {\n        \"dtype\": \"string\",\n        \"num_unique_values\": 2,\n        \"samples\": [\n          \"Acoustic\",\n          \"HipHop\"\n        ],\n        \"semantic_type\": \"\",\n        \"description\": \"\"\n      }\n    }\n  ]\n}"
            }
          },
          "metadata": {},
          "execution_count": 158
        }
      ]
    },
    {
      "cell_type": "markdown",
      "source": [
        "A User with:\n",
        "-Age = 21 and genre = 1 (Male):\n",
        "is likely to love **HIPHOP MUSIC** according to our model prediction.\n",
        "\n",
        "-Age = 30 genre = 0 (female): is more likely to love **ACOUSTIC MUSIC** based on our model prediction."
      ],
      "metadata": {
        "id": "zP8gqS73uJu4"
      }
    },
    {
      "cell_type": "markdown",
      "source": [
        "#Visualizing the Decision Tree"
      ],
      "metadata": {
        "id": "Ba3Y6R7nfYGA"
      }
    },
    {
      "cell_type": "code",
      "source": [
        "tree.export_graphviz(model, out_file=\"music_recommender.dot\",\n",
        "                     feature_names = [\"age\", \"gender\"],\n",
        "                     class_names= sorted(y.unique()),\n",
        "                     label= \"all\",\n",
        "                     rounded = True,\n",
        "                     filled= True)\n"
      ],
      "metadata": {
        "id": "BG8kdBlveVep"
      },
      "execution_count": null,
      "outputs": []
    },
    {
      "cell_type": "code",
      "source": [
        "with open('/content/music_recommender.dot') as f:\n",
        "    dot_graph = f.read()\n",
        "\n",
        "source = Source(dot_graph)\n"
      ],
      "metadata": {
        "id": "lkkaJrAjkLPG"
      },
      "execution_count": null,
      "outputs": []
    },
    {
      "cell_type": "code",
      "source": [
        "source.view()"
      ],
      "metadata": {
        "colab": {
          "base_uri": "https://localhost:8080/",
          "height": 35
        },
        "id": "QA90iGJErQMg",
        "outputId": "50165e03-181a-46d8-dd5d-9fd2e1538028"
      },
      "execution_count": null,
      "outputs": [
        {
          "output_type": "execute_result",
          "data": {
            "text/plain": [
              "'Source.gv.pdf'"
            ],
            "application/vnd.google.colaboratory.intrinsic+json": {
              "type": "string"
            }
          },
          "metadata": {},
          "execution_count": 163
        }
      ]
    },
    {
      "cell_type": "markdown",
      "source": [
        "Downloaded as PDF"
      ],
      "metadata": {
        "id": "wycvQb21t8VH"
      }
    },
    {
      "cell_type": "markdown",
      "source": [
        "![image.png](data:image/png;base64,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)"
      ],
      "metadata": {
        "id": "YRACvwOdtymd"
      }
    },
    {
      "cell_type": "code",
      "source": [],
      "metadata": {
        "id": "lUrJ6GdjrWMR"
      },
      "execution_count": null,
      "outputs": []
    }
  ]
}
